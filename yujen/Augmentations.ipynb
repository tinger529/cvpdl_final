{
 "cells": [
  {
   "cell_type": "code",
   "execution_count": 1,
   "id": "92237af2",
   "metadata": {
    "collapsed": true
   },
   "outputs": [
    {
     "name": "stdout",
     "output_type": "stream",
     "text": [
      "WARNING:tensorflow:Deprecation warnings have been disabled. Set TF_ENABLE_DEPRECATION_WARNINGS=1 to re-enable them.\n"
     ]
    },
    {
     "name": "stderr",
     "output_type": "stream",
     "text": [
      "2023-05-25 15:09:24.151491: I tensorflow/stream_executor/platform/default/dso_loader.cc:50] Successfully opened dynamic library libcudart.so.12\n",
      "WARNING:root:Limited tf.compat.v2.summary API due to missing TensorBoard installation.\n",
      "WARNING:root:Limited tf.compat.v2.summary API due to missing TensorBoard installation.\n"
     ]
    }
   ],
   "source": [
    "import tensorflow as tf\n",
    "import tensorflow_datasets as tfds\n",
    "from PIL import Image, ImageOps, ImageFilter, ImageEnhance\n",
    "import numpy as np"
   ]
  },
  {
   "cell_type": "code",
   "execution_count": 2,
   "id": "7fca93d2",
   "metadata": {
    "collapsed": true
   },
   "outputs": [
    {
     "name": "stdout",
     "output_type": "stream",
     "text": [
      "WARNING:tensorflow:The operation `tf.image.convert_image_dtype` will be skipped since the input and output dtypes are identical.\n"
     ]
    },
    {
     "name": "stderr",
     "output_type": "stream",
     "text": [
      "WARNING:tensorflow:The operation `tf.image.convert_image_dtype` will be skipped since the input and output dtypes are identical.\n"
     ]
    },
    {
     "name": "stdout",
     "output_type": "stream",
     "text": [
      "WARNING:tensorflow:The operation `tf.image.convert_image_dtype` will be skipped since the input and output dtypes are identical.\n"
     ]
    },
    {
     "name": "stderr",
     "output_type": "stream",
     "text": [
      "WARNING:tensorflow:The operation `tf.image.convert_image_dtype` will be skipped since the input and output dtypes are identical.\n"
     ]
    },
    {
     "name": "stdout",
     "output_type": "stream",
     "text": [
      "WARNING:tensorflow:The operation `tf.image.convert_image_dtype` will be skipped since the input and output dtypes are identical.\n"
     ]
    },
    {
     "name": "stderr",
     "output_type": "stream",
     "text": [
      "WARNING:tensorflow:The operation `tf.image.convert_image_dtype` will be skipped since the input and output dtypes are identical.\n"
     ]
    },
    {
     "name": "stdout",
     "output_type": "stream",
     "text": [
      "WARNING:tensorflow:The operation `tf.image.convert_image_dtype` will be skipped since the input and output dtypes are identical.\n"
     ]
    },
    {
     "name": "stderr",
     "output_type": "stream",
     "text": [
      "WARNING:tensorflow:The operation `tf.image.convert_image_dtype` will be skipped since the input and output dtypes are identical.\n",
      "2023-05-25 15:09:25.520128: I tensorflow/stream_executor/platform/default/dso_loader.cc:50] Successfully opened dynamic library libcuda.so.1\n",
      "2023-05-25 15:09:25.563990: I tensorflow/stream_executor/cuda/cuda_gpu_executor.cc:1082] successful NUMA node read from SysFS had negative value (-1), but there must be at least one NUMA node, so returning NUMA node zero\n",
      "2023-05-25 15:09:25.564152: I tensorflow/core/common_runtime/gpu/gpu_device.cc:1674] Found device 0 with properties: \n",
      "name: NVIDIA GeForce RTX 3090 major: 8 minor: 6 memoryClockRate(GHz): 1.785\n",
      "pciBusID: 0000:08:00.0\n",
      "2023-05-25 15:09:25.564185: I tensorflow/stream_executor/cuda/cuda_gpu_executor.cc:1082] successful NUMA node read from SysFS had negative value (-1), but there must be at least one NUMA node, so returning NUMA node zero\n",
      "2023-05-25 15:09:25.564326: I tensorflow/core/common_runtime/gpu/gpu_device.cc:1674] Found device 1 with properties: \n",
      "name: NVIDIA TITAN RTX major: 7 minor: 5 memoryClockRate(GHz): 1.77\n",
      "pciBusID: 0000:07:00.0\n",
      "2023-05-25 15:09:25.564334: I tensorflow/stream_executor/platform/default/dso_loader.cc:50] Successfully opened dynamic library libcudart.so.12\n",
      "2023-05-25 15:09:25.578188: I tensorflow/stream_executor/platform/default/dso_loader.cc:50] Successfully opened dynamic library libcublas.so.12\n",
      "2023-05-25 15:09:25.579138: I tensorflow/stream_executor/platform/default/dso_loader.cc:50] Successfully opened dynamic library libcufft.so.11\n",
      "2023-05-25 15:09:25.579264: I tensorflow/stream_executor/platform/default/dso_loader.cc:50] Successfully opened dynamic library libcurand.so.10\n",
      "2023-05-25 15:09:25.581019: I tensorflow/stream_executor/platform/default/dso_loader.cc:50] Successfully opened dynamic library libcusolver.so.11\n",
      "2023-05-25 15:09:25.581043: I tensorflow/stream_executor/platform/default/dso_loader.cc:50] Successfully opened dynamic library libcusparse.so.12\n",
      "2023-05-25 15:09:25.581103: I tensorflow/stream_executor/platform/default/dso_loader.cc:50] Successfully opened dynamic library libcudnn.so.8\n",
      "2023-05-25 15:09:25.581182: I tensorflow/stream_executor/cuda/cuda_gpu_executor.cc:1082] successful NUMA node read from SysFS had negative value (-1), but there must be at least one NUMA node, so returning NUMA node zero\n",
      "2023-05-25 15:09:25.581383: I tensorflow/stream_executor/cuda/cuda_gpu_executor.cc:1082] successful NUMA node read from SysFS had negative value (-1), but there must be at least one NUMA node, so returning NUMA node zero\n",
      "2023-05-25 15:09:25.581539: I tensorflow/stream_executor/cuda/cuda_gpu_executor.cc:1082] successful NUMA node read from SysFS had negative value (-1), but there must be at least one NUMA node, so returning NUMA node zero\n",
      "2023-05-25 15:09:25.581684: I tensorflow/stream_executor/cuda/cuda_gpu_executor.cc:1082] successful NUMA node read from SysFS had negative value (-1), but there must be at least one NUMA node, so returning NUMA node zero\n",
      "2023-05-25 15:09:25.581809: I tensorflow/core/common_runtime/gpu/gpu_device.cc:1802] Adding visible gpu devices: 0, 1\n",
      "2023-05-25 15:09:25.614540: I tensorflow/core/platform/profile_utils/cpu_utils.cc:109] CPU Frequency: 3399915000 Hz\n",
      "2023-05-25 15:09:25.615428: I tensorflow/compiler/xla/service/service.cc:168] XLA service 0x63a2520 initialized for platform Host (this does not guarantee that XLA will be used). Devices:\n",
      "2023-05-25 15:09:25.615441: I tensorflow/compiler/xla/service/service.cc:176]   StreamExecutor device (0): Host, Default Version\n",
      "2023-05-25 15:09:25.708239: I tensorflow/stream_executor/cuda/cuda_gpu_executor.cc:1082] successful NUMA node read from SysFS had negative value (-1), but there must be at least one NUMA node, so returning NUMA node zero\n",
      "2023-05-25 15:09:25.754437: I tensorflow/stream_executor/cuda/cuda_gpu_executor.cc:1082] successful NUMA node read from SysFS had negative value (-1), but there must be at least one NUMA node, so returning NUMA node zero\n",
      "2023-05-25 15:09:25.754687: I tensorflow/compiler/xla/service/service.cc:168] XLA service 0x2d235c0 initialized for platform CUDA (this does not guarantee that XLA will be used). Devices:\n",
      "2023-05-25 15:09:25.754700: I tensorflow/compiler/xla/service/service.cc:176]   StreamExecutor device (0): NVIDIA GeForce RTX 3090, Compute Capability 8.6\n",
      "2023-05-25 15:09:25.754704: I tensorflow/compiler/xla/service/service.cc:176]   StreamExecutor device (1): NVIDIA TITAN RTX, Compute Capability 7.5\n",
      "2023-05-25 15:09:25.754838: I tensorflow/core/common_runtime/gpu/gpu_device.cc:1214] Device interconnect StreamExecutor with strength 1 edge matrix:\n",
      "2023-05-25 15:09:25.754844: I tensorflow/core/common_runtime/gpu/gpu_device.cc:1220]      \n"
     ]
    }
   ],
   "source": [
    "ds = tfds.load('cifar10', split='test').shuffle(1000)\n",
    "# ds = tfds.load('stl10', split='test')\n",
    "one = tfds.as_numpy(ds)"
   ]
  },
  {
   "cell_type": "code",
   "execution_count": 14,
   "id": "7ee3155b",
   "metadata": {},
   "outputs": [],
   "source": [
    "def _enhance(x, op, level):\n",
    "    return op(x).enhance(0.1 + 1.9 * level)\n",
    "\n",
    "\n",
    "def _imageop(x, op, level):\n",
    "    return Image.blend(x, op(x), level)\n",
    "\n",
    "\n",
    "def _filter(x, op, level):\n",
    "    return Image.blend(x, x.filter(op), level)\n",
    "\n",
    "def rotate(x, angle):\n",
    "    angle = int(np.round((2 * angle - 1) * 45))\n",
    "    return x.rotate(angle)\n",
    "\n",
    "def rotate_fill(x, angle):\n",
    "    x = x.convert(\"RGBA\")\n",
    "    angle = int(np.round((2 * angle - 1) * 45))\n",
    "#     color = tuple(np.mean(np.array(x)[0:1,:], axis=(0,1)).astype(int))\n",
    "    rotated = x.rotate(angle, fillcolor=0, resample=Image.Resampling.BILINEAR)\n",
    "    x.paste(rotated, mask=rotated)\n",
    "    return x.convert(\"RGB\")\n",
    "\n",
    "def translate_x(x, delta):\n",
    "    x = x.convert(\"RGBA\")\n",
    "    delta = (2 * delta - 1) * 0.5 * x.size[0]\n",
    "    translated = x.transform(x.size, Image.AFFINE, (1, 0, delta, 0, 1, 0), fillcolor=0)\n",
    "    x.paste(translated, mask=translated)\n",
    "    return x.convert(\"RGB\")\n",
    "\n",
    "\n",
    "def translate_y(x, delta):\n",
    "    x = x.convert(\"RGBA\")\n",
    "    delta = (2 * delta - 1) * 0.5 * x.size[1]\n",
    "    translated = x.transform(x.size, Image.AFFINE, (1, 0, 0, 0, 1, delta))\n",
    "    x.paste(translated, mask=translated)\n",
    "    return x.convert(\"RGB\")\n",
    "\n",
    "def translate_fill_x(image, delta):\n",
    "    width, height = image.size\n",
    "    rotate_amount = int((2 * delta - 1) * 0.5 * image.size[0])\n",
    "    rotate_amount = rotate_amount % width  # Ensure the rotation amount is within the image width\n",
    "\n",
    "    # Split the image into two parts: the shifted part and the remaining part\n",
    "    shifted_part = image.crop((0, 0, rotate_amount, height))\n",
    "    remaining_part = image.crop((rotate_amount, 0, width, height))\n",
    "\n",
    "    # Create a new image with the same size as the original image\n",
    "    new_image = Image.new(\"RGB\", (width, height))\n",
    "\n",
    "    # Paste the remaining part first\n",
    "    new_image.paste(remaining_part, (0, 0))\n",
    "\n",
    "    # Paste the shifted part at the opposite side\n",
    "    new_image.paste(shifted_part, (width - rotate_amount, 0))\n",
    "\n",
    "    return new_image\n",
    "\n",
    "def translate_fill_y(image, delta):\n",
    "    width, height = image.size\n",
    "    rotate_amount = int((2 * delta - 1) * 0.5 * image.size[1])\n",
    "    rotate_amount = rotate_amount % height  # Ensure the rotation amount is within the image width\n",
    "\n",
    "    # Split the image into two parts: the shifted part and the remaining part\n",
    "    shifted_part = image.crop((0, 0, width, rotate_amount))\n",
    "    remaining_part = image.crop((0, rotate_amount, width, height))\n",
    "\n",
    "    # Create a new image with the same size as the original image\n",
    "    new_image = Image.new(\"RGB\", (width, height))\n",
    "\n",
    "    # Paste the remaining part first\n",
    "    new_image.paste(remaining_part, (0, 0))\n",
    "\n",
    "    # Paste the shifted part at the opposite side\n",
    "    new_image.paste(shifted_part, (0, height-rotate_amount))\n",
    "\n",
    "    return new_image\n",
    "\n",
    "def gaussian_noise(x, delta):\n",
    "    img = np.array(x)\n",
    "    scale = 20 * delta\n",
    "    img = img + np.random.normal(0,scale,size=img.shape)\n",
    "    img = img.clip(0,255).astype(np.uint8)\n",
    "    return Image.fromarray(img)"
   ]
  },
  {
   "cell_type": "code",
   "execution_count": 19,
   "id": "5811f770",
   "metadata": {},
   "outputs": [
    {
     "data": {
      "image/png": "[encoded data removed]",
      "text/plain": [
       "<PIL.Image.Image image mode=RGB size=32x32>"
      ]
     },
     "execution_count": 19,
     "metadata": {},
     "output_type": "execute_result"
    }
   ],
   "source": [
    "image = next(one)['image']\n",
    "img = Image.fromarray(image, 'RGB')\n",
    "img"
   ]
  },
  {
   "cell_type": "code",
   "execution_count": 20,
   "id": "106df857",
   "metadata": {},
   "outputs": [
    {
     "data": {
      "image/png": "[encoded data removed]",
      "text/plain": [
       "<PIL.Image.Image image mode=RGB size=32x32>"
      ]
     },
     "execution_count": 20,
     "metadata": {},
     "output_type": "execute_result"
    }
   ],
   "source": [
    "gaussian_noise(img,1)"
   ]
  },
  {
   "cell_type": "code",
   "execution_count": 182,
   "id": "8cbabd2b",
   "metadata": {},
   "outputs": [
    {
     "data": {
      "image/png": "[encoded data removed]",
      "text/plain": [
       "<PIL.Image.Image image mode=RGB size=32x32>"
      ]
     },
     "execution_count": 182,
     "metadata": {},
     "output_type": "execute_result"
    }
   ],
   "source": [
    "shear_x(img,0)"
   ]
  },
  {
   "cell_type": "code",
   "execution_count": 183,
   "id": "3fecb8f8",
   "metadata": {},
   "outputs": [
    {
     "data": {
      "image/png": "[encoded data removed]",
      "text/plain": [
       "<PIL.Image.Image image mode=RGB size=32x32>"
      ]
     },
     "execution_count": 183,
     "metadata": {},
     "output_type": "execute_result"
    }
   ],
   "source": [
    "shear_fill_x(img,0)"
   ]
  },
  {
   "cell_type": "code",
   "execution_count": 184,
   "id": "22fcd646",
   "metadata": {},
   "outputs": [
    {
     "data": {
      "image/png": "[encoded data removed]",
      "text/plain": [
       "<PIL.Image.Image image mode=RGB size=32x32>"
      ]
     },
     "execution_count": 184,
     "metadata": {},
     "output_type": "execute_result"
    }
   ],
   "source": [
    "shear_fill_y(img,1)"
   ]
  },
  {
   "cell_type": "code",
   "execution_count": 185,
   "id": "d133e3aa",
   "metadata": {},
   "outputs": [
    {
     "data": {
      "image/png": "[encoded data removed]",
      "text/plain": [
       "<PIL.Image.Image image mode=RGB size=32x32>"
      ]
     },
     "execution_count": 185,
     "metadata": {},
     "output_type": "execute_result"
    }
   ],
   "source": [
    "shear_fill_x2(img,0)"
   ]
  },
  {
   "cell_type": "code",
   "execution_count": 52,
   "id": "57bc296f",
   "metadata": {},
   "outputs": [
    {
     "data": {
      "image/png": "[encoded data removed]",
      "text/plain": [
       "<PIL.Image.Image image mode=RGB size=32x32>"
      ]
     },
     "execution_count": 52,
     "metadata": {},
     "output_type": "execute_result"
    }
   ],
   "source": [
    "translate_x(img, 0.25)"
   ]
  },
  {
   "cell_type": "code",
   "execution_count": 53,
   "id": "2575fcb6",
   "metadata": {},
   "outputs": [
    {
     "data": {
      "image/png": "[encoded data removed]",
      "text/plain": [
       "<PIL.Image.Image image mode=RGB size=32x32>"
      ]
     },
     "execution_count": 53,
     "metadata": {},
     "output_type": "execute_result"
    }
   ],
   "source": [
    "translate_y(img, 0)"
   ]
  },
  {
   "cell_type": "code",
   "execution_count": 54,
   "id": "8ea0a822",
   "metadata": {},
   "outputs": [
    {
     "data": {
      "image/png": "[encoded data removed]",
      "text/plain": [
       "<PIL.Image.Image image mode=RGB size=32x32>"
      ]
     },
     "execution_count": 54,
     "metadata": {},
     "output_type": "execute_result"
    }
   ],
   "source": [
    "translate_fill_x(img, 0.1)"
   ]
  },
  {
   "cell_type": "code",
   "execution_count": 55,
   "id": "3d4f4fe4",
   "metadata": {},
   "outputs": [
    {
     "data": {
      "image/png": "[encoded data removed]",
      "text/plain": [
       "<PIL.Image.Image image mode=RGB size=32x32>"
      ]
     },
     "execution_count": 55,
     "metadata": {},
     "output_type": "execute_result"
    }
   ],
   "source": [
    "translate_fill_y(img, 0.9)"
   ]
  },
  {
   "cell_type": "code",
   "execution_count": 7,
   "id": "a5d28cfb",
   "metadata": {},
   "outputs": [
    {
     "data": {
      "image/png": "[encoded data removed]",
      "text/plain": [
       "<PIL.Image.Image image mode=RGB size=32x32>"
      ]
     },
     "execution_count": 7,
     "metadata": {},
     "output_type": "execute_result"
    }
   ],
   "source": [
    "rotate_fill(img,1)"
   ]
  },
  {
   "cell_type": "code",
   "execution_count": 8,
   "id": "863653d8",
   "metadata": {},
   "outputs": [
    {
     "data": {
      "image/png": "[encoded data removed]",
      "text/plain": [
       "<PIL.Image.Image image mode=RGB size=32x32>"
      ]
     },
     "execution_count": 8,
     "metadata": {},
     "output_type": "execute_result"
    }
   ],
   "source": [
    "rotate(img, 1)"
   ]
  },
  {
   "cell_type": "code",
   "execution_count": 16,
   "id": "c129a60b",
   "metadata": {},
   "outputs": [
    {
     "data": {
      "image/png": "[encoded data removed]",
      "text/plain": [
       "<PIL.Image.Image image mode=RGB size=32x32>"
      ]
     },
     "execution_count": 16,
     "metadata": {},
     "output_type": "execute_result"
    }
   ],
   "source": [
    "solarize(img,0)"
   ]
  },
  {
   "cell_type": "code",
   "execution_count": 666,
   "id": "a163a0d9",
   "metadata": {},
   "outputs": [
    {
     "data": {
      "image/png": "[encoded data removed]",
      "text/plain": [
       "<PIL.Image.Image image mode=RGB size=32x32>"
      ]
     },
     "execution_count": 666,
     "metadata": {},
     "output_type": "execute_result"
    }
   ],
   "source": [
    "level = 0.5\n",
    "ImageOps.autocontrast(img)\n",
    "# Image.blend(img, ImageOps.autocontrast(img), level)"
   ]
  },
  {
   "cell_type": "code",
   "execution_count": 667,
   "id": "97473d35",
   "metadata": {},
   "outputs": [
    {
     "data": {
      "image/png": "[encoded data removed]",
      "text/plain": [
       "<PIL.Image.Image image mode=RGB size=32x32>"
      ]
     },
     "execution_count": 667,
     "metadata": {},
     "output_type": "execute_result"
    }
   ],
   "source": [
    "Image.blend(img, img.filter(ImageFilter.BLUR), 0.75)"
   ]
  },
  {
   "cell_type": "code",
   "execution_count": 668,
   "id": "37eb3f51",
   "metadata": {},
   "outputs": [
    {
     "data": {
      "image/png": "[encoded data removed]",
      "text/plain": [
       "<PIL.Image.Image image mode=RGB size=32x32>"
      ]
     },
     "execution_count": 668,
     "metadata": {},
     "output_type": "execute_result"
    }
   ],
   "source": [
    "_enhance(img, ImageEnhance.Brightness, 0.75)"
   ]
  },
  {
   "cell_type": "code",
   "execution_count": 669,
   "id": "9d4ecb77",
   "metadata": {},
   "outputs": [
    {
     "data": {
      "image/png": "[encoded data removed]",
      "text/plain": [
       "<PIL.Image.Image image mode=RGB size=32x32>"
      ]
     },
     "execution_count": 669,
     "metadata": {},
     "output_type": "execute_result"
    }
   ],
   "source": [
    "_enhance(img, ImageEnhance.Color, 0.5)"
   ]
  },
  {
   "cell_type": "code",
   "execution_count": 670,
   "id": "ebe12b8d",
   "metadata": {},
   "outputs": [
    {
     "data": {
      "image/png": "[encoded data removed]",
      "text/plain": [
       "<PIL.Image.Image image mode=RGB size=32x32>"
      ]
     },
     "execution_count": 670,
     "metadata": {},
     "output_type": "execute_result"
    }
   ],
   "source": [
    "_enhance(img, ImageEnhance.Contrast, 0.5)"
   ]
  },
  {
   "cell_type": "code",
   "execution_count": 671,
   "id": "6baee9d9",
   "metadata": {},
   "outputs": [
    {
     "data": {
      "image/png": "[encoded data removed]",
      "text/plain": [
       "<PIL.Image.Image image mode=RGB size=32x32>"
      ]
     },
     "execution_count": 671,
     "metadata": {},
     "output_type": "execute_result"
    }
   ],
   "source": [
    "def cutout(x, level):\n",
    "    \"\"\"Apply cutout to pil_img at the specified level.\"\"\"\n",
    "    size = 1 + int(level * min(x.size) * 0.499)\n",
    "    img_height, img_width = x.size\n",
    "    height_loc = np.random.randint(low=0, high=img_height)\n",
    "    width_loc = np.random.randint(low=0, high=img_width)\n",
    "    upper_coord = (max(0, height_loc - size // 2), max(0, width_loc - size // 2))\n",
    "    lower_coord = (min(img_height, height_loc + size // 2), min(img_width, width_loc + size // 2))\n",
    "    x = x.copy()\n",
    "    pixels = x.load()  # create the pixel map\n",
    "#     p = pixels[height_loc,width_loc]\n",
    "    p = np.array(x)[upper_coord[0]:lower_coord[0], upper_coord[1]:lower_coord[1]]\n",
    "    p = tuple(np.mean(p,axis=(0,1), dtype=int))\n",
    "    for i in range(upper_coord[0], lower_coord[0]):  # for every col:\n",
    "        for j in range(upper_coord[1], lower_coord[1]):  # For every row\n",
    "            pixels[i, j] = p  # set the color accordingly\n",
    "    return x\n",
    "cutout(img, 1)"
   ]
  },
  {
   "cell_type": "code",
   "execution_count": 672,
   "id": "cf8d498f",
   "metadata": {},
   "outputs": [
    {
     "data": {
      "image/png": "[encoded data removed]",
      "text/plain": [
       "<PIL.Image.Image image mode=RGB size=32x32>"
      ]
     },
     "execution_count": 672,
     "metadata": {},
     "output_type": "execute_result"
    }
   ],
   "source": [
    "# not good\n",
    "def cutflip(x, level):\n",
    "    \"\"\"Apply cutout to pil_img at the specified level.\"\"\"\n",
    "    size = 1 + int(level * min(x.size) * 0.499)\n",
    "    img_height, img_width = x.size\n",
    "    height_loc = np.random.randint(low=0, high=img_height)\n",
    "    width_loc = np.random.randint(low=0, high=img_width)\n",
    "    upper_coord = (max(0, height_loc - size // 2), max(0, width_loc - size // 2))\n",
    "    lower_coord = (min(img_height, height_loc + size // 2), min(img_width, width_loc + size // 2))\n",
    "    y = x.copy()\n",
    "    px = x.load()  # create the pixel map\n",
    "    py = y.load()\n",
    "    for i in range(upper_coord[0], lower_coord[0]):  # for every col:\n",
    "        for j in range(upper_coord[1], lower_coord[1]):  # For every row\n",
    "            flipped_i = lower_coord[0] - 1 - (i - upper_coord[0])\n",
    "#             flipped_j = lower_coord[1] - 1 - (i - upper_coord[1])\n",
    "            py[i, j] = px[flipped_i, j]  # set the color accordingly\n",
    "    return y\n",
    "cutflip(img, 1)"
   ]
  },
  {
   "cell_type": "code",
   "execution_count": 739,
   "id": "7bbe1663",
   "metadata": {},
   "outputs": [
    {
     "data": {
      "image/png": "[encoded data removed]",
      "text/plain": [
       "<PIL.Image.Image image mode=RGB size=32x32>"
      ]
     },
     "execution_count": 739,
     "metadata": {},
     "output_type": "execute_result"
    }
   ],
   "source": [
    "translate_x(img,32)"
   ]
  },
  {
   "cell_type": "code",
   "execution_count": 679,
   "id": "163ccd35",
   "metadata": {},
   "outputs": [
    {
     "data": {
      "image/png": "[encoded data removed]",
      "text/plain": [
       "<PIL.Image.Image image mode=RGB size=32x32>"
      ]
     },
     "execution_count": 679,
     "metadata": {},
     "output_type": "execute_result"
    }
   ],
   "source": [
    "_imageop(img, ImageOps.equalize, 0.9)"
   ]
  },
  {
   "cell_type": "code",
   "execution_count": 678,
   "id": "59797a59",
   "metadata": {},
   "outputs": [
    {
     "data": {
      "image/png": "[encoded data removed]",
      "text/plain": [
       "<PIL.Image.Image image mode=RGB size=32x32>"
      ]
     },
     "execution_count": 678,
     "metadata": {},
     "output_type": "execute_result"
    }
   ],
   "source": [
    "_imageop(img, ImageOps.invert, 0.6)"
   ]
  },
  {
   "cell_type": "code",
   "execution_count": 10,
   "id": "4c1ee92d",
   "metadata": {},
   "outputs": [
    {
     "data": {
      "image/png": "[encoded data removed]",
      "text/plain": [
       "<PIL.Image.Image image mode=RGB size=32x32>"
      ]
     },
     "execution_count": 10,
     "metadata": {},
     "output_type": "execute_result"
    }
   ],
   "source": [
    "def posterize(x, level):\n",
    "    level = 1 + int(level * 7.999)\n",
    "    return ImageOps.posterize(x, level)\n",
    "posterize(img,0.2)"
   ]
  },
  {
   "cell_type": "code",
   "execution_count": 11,
   "id": "40872743",
   "metadata": {},
   "outputs": [
    {
     "name": "stderr",
     "output_type": "stream",
     "text": [
      "/tmp/ipykernel_1296966/986413361.py:5: DeprecationWarning: ANTIALIAS is deprecated and will be removed in Pillow 10 (2023-07-01). Use LANCZOS or Resampling.LANCZOS instead.\n",
      "  methods = (Image.ANTIALIAS, Image.BICUBIC, Image.BILINEAR, Image.BOX, Image.HAMMING, Image.NEAREST)\n"
     ]
    },
    {
     "data": {
      "image/png": "[encoded data removed]",
      "text/plain": [
       "<PIL.Image.Image image mode=RGB size=32x32>"
      ]
     },
     "execution_count": 11,
     "metadata": {},
     "output_type": "execute_result"
    }
   ],
   "source": [
    "def rescale(x, scale, method):\n",
    "    s = x.size\n",
    "    scale *= 0.25\n",
    "    crop = (scale * s[0], scale * s[1], s[0] * (1 - scale), s[1] * (1 - scale))\n",
    "    methods = (Image.ANTIALIAS, Image.BICUBIC, Image.BILINEAR, Image.BOX, Image.HAMMING, Image.NEAREST)\n",
    "    method = methods[int(method * 5.99)]\n",
    "    return x.crop(crop).resize(x.size, method)\n",
    "rescale(img, 1, 0.5)"
   ]
  },
  {
   "cell_type": "code",
   "execution_count": 725,
   "id": "c1bd081f",
   "metadata": {},
   "outputs": [
    {
     "data": {
      "image/png": "[encoded data removed]",
      "text/plain": [
       "<PIL.Image.Image image mode=RGB size=32x32>"
      ]
     },
     "execution_count": 725,
     "metadata": {},
     "output_type": "execute_result"
    }
   ],
   "source": [
    "sharpness(img, 1)"
   ]
  },
  {
   "cell_type": "code",
   "execution_count": 726,
   "id": "602cb6e7",
   "metadata": {},
   "outputs": [
    {
     "data": {
      "image/png": "[encoded data removed]",
      "text/plain": [
       "<PIL.Image.Image image mode=RGB size=32x32>"
      ]
     },
     "execution_count": 726,
     "metadata": {},
     "output_type": "execute_result"
    }
   ],
   "source": [
    "shear_x(img,1)"
   ]
  },
  {
   "cell_type": "code",
   "execution_count": 724,
   "id": "3d7dff50",
   "metadata": {},
   "outputs": [
    {
     "data": {
      "image/png": "[encoded data removed]",
      "text/plain": [
       "<PIL.Image.Image image mode=RGB size=32x32>"
      ]
     },
     "execution_count": 724,
     "metadata": {},
     "output_type": "execute_result"
    }
   ],
   "source": [
    "shear_y(img,1)"
   ]
  },
  {
   "cell_type": "code",
   "execution_count": 14,
   "id": "bbdb8d84",
   "metadata": {},
   "outputs": [
    {
     "data": {
      "image/png": "[encoded data removed]",
      "text/plain": [
       "<PIL.Image.Image image mode=RGB size=32x32>"
      ]
     },
     "execution_count": 14,
     "metadata": {},
     "output_type": "execute_result"
    }
   ],
   "source": [
    "translate_x(img,1)"
   ]
  },
  {
   "cell_type": "code",
   "execution_count": 746,
   "id": "e4162ae2",
   "metadata": {},
   "outputs": [
    {
     "data": {
      "image/png": "[encoded data removed]",
      "text/plain": [
       "<PIL.Image.Image image mode=RGB size=32x32>"
      ]
     },
     "execution_count": 746,
     "metadata": {},
     "output_type": "execute_result"
    }
   ],
   "source": [
    "translate_y(img,1)"
   ]
  },
  {
   "cell_type": "code",
   "execution_count": 164,
   "id": "c5d2e496",
   "metadata": {},
   "outputs": [],
   "source": [
    "def sharpness(x, sharpness):\n",
    "    return _enhance(x, ImageEnhance.Sharpness, sharpness)\n",
    "\n",
    "\n",
    "def shear_x(x, shear):\n",
    "    shear = (2 * shear - 1) * 0.3\n",
    "    return x.transform(x.size, Image.AFFINE, (1, shear, 0, 0, 1, 0))\n",
    "\n",
    "\n",
    "def shear_y(x, shear):\n",
    "    shear = (2 * shear - 1) * 0.3\n",
    "    return x.transform(x.size, Image.AFFINE, (1, 0, 0, shear, 1, 0))\n",
    "\n",
    "def shear_fill_x(x, shear):\n",
    "    x = x.convert(\"RGBA\")\n",
    "    shear = (2 * shear - 1) * 0.3\n",
    "    sheared = x.transform(x.size, Image.AFFINE, (1, shear, 0, 0, 1, 0))\n",
    "    x.paste(sheared, mask=sheared)\n",
    "    return x.convert(\"RGB\")\n",
    "\n",
    "def shear_fill_y(x, shear):\n",
    "    x = x.convert(\"RGBA\")\n",
    "    shear = (2 * shear - 1) * 0.3\n",
    "    sheared = x.transform(x.size, Image.AFFINE, (1, 0, 0, shear, 1, 0))\n",
    "    x.paste(sheared, mask=sheared)\n",
    "    return x.convert(\"RGB\")\n",
    "\n",
    "def shear_fill_x2(x, shear):\n",
    "    if shear < 0.5:\n",
    "        b = np.array(x)[:,0:1].mean(axis=(0,1), keepdims=True)\n",
    "    else:\n",
    "        b = np.array(x)[:,x.size[0]-1:x.size[0]].mean(axis=(0,1),keepdims=True)\n",
    "    b= b.repeat(x.size[0], axis=0).repeat(x.size[1],axis=1)\n",
    "    b = Image.fromarray(b.astype(np.uint8))\n",
    "    \n",
    "    shear = (2 * shear - 1) * 0.3\n",
    "    sheared = x.convert(\"RGBA\").transform(x.size, Image.AFFINE, (1, shear, 0, 0, 1, 0), fillcolor=0)\n",
    "    b.paste(sheared, mask=sheared)\n",
    "    return b\n",
    "    \n",
    "\n",
    "\n",
    "def shear_y(x, shear):\n",
    "    shear = (2 * shear - 1) * 0.3\n",
    "    return x.transform(x.size, Image.AFFINE, (1, 0, 0, shear, 1, 0))\n",
    "\n",
    "\n",
    "def smooth(x, level):\n",
    "    return _filter(x, ImageFilter.SMOOTH, level)\n",
    "\n",
    "\n",
    "def solarize(x, th):\n",
    "    th = int(th * 255.999)\n",
    "    return ImageOps.solarize(x, th)\n",
    "\n",
    "\n",
    "def translate_x(x, delta):\n",
    "    delta = (2 * delta - 1) * 0.5 * x.size[0]\n",
    "    return x.transform(x.size, Image.AFFINE, (1, 0, delta, 0, 1, 0))\n",
    "\n",
    "\n",
    "def translate_y(x, delta):\n",
    "    delta = (2 * delta - 1) * 0.5 * x.size[1]\n",
    "    return x.transform(x.size, Image.AFFINE, (1, 0, 0, 0, 1, delta))"
   ]
  },
  {
   "cell_type": "code",
   "execution_count": 61,
   "id": "c57f8093",
   "metadata": {},
   "outputs": [
    {
     "data": {
      "image/png": "[encoded data removed]",
      "text/plain": [
       "<PIL.Image.Image image mode=RGB size=32x32>"
      ]
     },
     "execution_count": 61,
     "metadata": {},
     "output_type": "execute_result"
    }
   ],
   "source": [
    "shear_fill_x(img,1)"
   ]
  },
  {
   "cell_type": "code",
   "execution_count": 60,
   "id": "a35e1e3b",
   "metadata": {},
   "outputs": [
    {
     "data": {
      "image/png": "[encoded data removed]",
      "text/plain": [
       "<PIL.Image.Image image mode=RGB size=32x32>"
      ]
     },
     "execution_count": 60,
     "metadata": {},
     "output_type": "execute_result"
    }
   ],
   "source": [
    "shear_fill_x2(img,1)"
   ]
  },
  {
   "cell_type": "code",
   "execution_count": 57,
   "id": "ed79f68c",
   "metadata": {},
   "outputs": [
    {
     "data": {
      "image/png": "[encoded data removed]",
      "text/plain": [
       "<PIL.Image.Image image mode=RGB size=16x8>"
      ]
     },
     "execution_count": 57,
     "metadata": {},
     "output_type": "execute_result"
    }
   ],
   "source": [
    "Image.fromarray(np.array(img)[0:8,0:16])"
   ]
  },
  {
   "cell_type": "code",
   "execution_count": null,
   "id": "ca433298",
   "metadata": {},
   "outputs": [],
   "source": []
  }
 ],
 "metadata": {
  "kernelspec": {
   "display_name": "Python 3 (ipykernel)",
   "language": "python",
   "name": "python3"
  },
  "language_info": {
   "codemirror_mode": {
    "name": "ipython",
    "version": 3
   },
   "file_extension": ".py",
   "mimetype": "text/x-python",
   "name": "python",
   "nbconvert_exporter": "python",
   "pygments_lexer": "ipython3",
   "version": "3.8.16"
  }
 },
 "nbformat": 4,
 "nbformat_minor": 5
}
